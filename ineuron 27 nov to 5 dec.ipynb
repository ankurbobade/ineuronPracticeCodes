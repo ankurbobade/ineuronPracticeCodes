{
 "cells": [
  {
   "cell_type": "code",
   "execution_count": 2,
   "id": "de25a477",
   "metadata": {},
   "outputs": [
    {
     "name": "stdout",
     "output_type": "stream",
     "text": [
      "this is my first program\n"
     ]
    }
   ],
   "source": [
    "print(\"this is my first program\")"
   ]
  },
  {
   "cell_type": "code",
   "execution_count": 3,
   "id": "8d958780",
   "metadata": {},
   "outputs": [
    {
     "data": {
      "text/plain": [
       "5"
      ]
     },
     "execution_count": 3,
     "metadata": {},
     "output_type": "execute_result"
    }
   ],
   "source": [
    "2+3"
   ]
  },
  {
   "cell_type": "code",
   "execution_count": 4,
   "id": "5585c248",
   "metadata": {},
   "outputs": [],
   "source": [
    "a=2+3\n"
   ]
  },
  {
   "cell_type": "code",
   "execution_count": 5,
   "id": "7a4c1927",
   "metadata": {},
   "outputs": [],
   "source": [
    "b=5+9"
   ]
  },
  {
   "cell_type": "code",
   "execution_count": 6,
   "id": "77a34fb8",
   "metadata": {},
   "outputs": [],
   "source": [
    "c=a+b"
   ]
  },
  {
   "cell_type": "code",
   "execution_count": 7,
   "id": "900d1a5b",
   "metadata": {},
   "outputs": [
    {
     "data": {
      "text/plain": [
       "19"
      ]
     },
     "execution_count": 7,
     "metadata": {},
     "output_type": "execute_result"
    }
   ],
   "source": [
    "c"
   ]
  },
  {
   "cell_type": "code",
   "execution_count": 8,
   "id": "4560459c",
   "metadata": {},
   "outputs": [
    {
     "data": {
      "text/plain": [
       "5"
      ]
     },
     "execution_count": 8,
     "metadata": {},
     "output_type": "execute_result"
    }
   ],
   "source": [
    "a"
   ]
  },
  {
   "cell_type": "code",
   "execution_count": 9,
   "id": "63667087",
   "metadata": {},
   "outputs": [],
   "source": [
    "ank = 1234"
   ]
  },
  {
   "cell_type": "code",
   "execution_count": 10,
   "id": "5a402876",
   "metadata": {},
   "outputs": [],
   "source": [
    "pqr = 2456"
   ]
  },
  {
   "cell_type": "code",
   "execution_count": 11,
   "id": "a84e8e45",
   "metadata": {},
   "outputs": [
    {
     "data": {
      "text/plain": [
       "1234"
      ]
     },
     "execution_count": 11,
     "metadata": {},
     "output_type": "execute_result"
    }
   ],
   "source": [
    "ank"
   ]
  },
  {
   "cell_type": "code",
   "execution_count": 12,
   "id": "6036e5fd",
   "metadata": {},
   "outputs": [
    {
     "data": {
      "text/plain": [
       "int"
      ]
     },
     "execution_count": 12,
     "metadata": {},
     "output_type": "execute_result"
    }
   ],
   "source": [
    "type(a)"
   ]
  },
  {
   "cell_type": "code",
   "execution_count": 13,
   "id": "537beda3",
   "metadata": {},
   "outputs": [],
   "source": [
    "d = \"ankur\""
   ]
  },
  {
   "cell_type": "code",
   "execution_count": 14,
   "id": "2b6598df",
   "metadata": {},
   "outputs": [
    {
     "data": {
      "text/plain": [
       "str"
      ]
     },
     "execution_count": 14,
     "metadata": {},
     "output_type": "execute_result"
    }
   ],
   "source": [
    "type(d)"
   ]
  },
  {
   "cell_type": "code",
   "execution_count": 15,
   "id": "b24e006e",
   "metadata": {},
   "outputs": [],
   "source": [
    "e = 52.3687"
   ]
  },
  {
   "cell_type": "code",
   "execution_count": 16,
   "id": "32228838",
   "metadata": {},
   "outputs": [
    {
     "data": {
      "text/plain": [
       "float"
      ]
     },
     "execution_count": 16,
     "metadata": {},
     "output_type": "execute_result"
    }
   ],
   "source": [
    "type(e)"
   ]
  },
  {
   "cell_type": "code",
   "execution_count": 17,
   "id": "a51f8f46",
   "metadata": {},
   "outputs": [],
   "source": [
    "f = 4+2j"
   ]
  },
  {
   "cell_type": "code",
   "execution_count": 18,
   "id": "27726a7a",
   "metadata": {},
   "outputs": [
    {
     "data": {
      "text/plain": [
       "complex"
      ]
     },
     "execution_count": 18,
     "metadata": {},
     "output_type": "execute_result"
    }
   ],
   "source": [
    "type(f)"
   ]
  },
  {
   "cell_type": "code",
   "execution_count": 19,
   "id": "bf5115b7",
   "metadata": {},
   "outputs": [],
   "source": [
    "g = True"
   ]
  },
  {
   "cell_type": "code",
   "execution_count": 20,
   "id": "e3199566",
   "metadata": {},
   "outputs": [
    {
     "data": {
      "text/plain": [
       "bool"
      ]
     },
     "execution_count": 20,
     "metadata": {},
     "output_type": "execute_result"
    }
   ],
   "source": [
    "type(g)"
   ]
  },
  {
   "cell_type": "code",
   "execution_count": 21,
   "id": "c7663763",
   "metadata": {},
   "outputs": [],
   "source": [
    "_a = 58"
   ]
  },
  {
   "cell_type": "code",
   "execution_count": 22,
   "id": "b805f9a4",
   "metadata": {},
   "outputs": [
    {
     "data": {
      "text/plain": [
       "int"
      ]
     },
     "execution_count": 22,
     "metadata": {},
     "output_type": "execute_result"
    }
   ],
   "source": [
    "type(_a)"
   ]
  },
  {
   "cell_type": "code",
   "execution_count": 23,
   "id": "8b9e2708",
   "metadata": {},
   "outputs": [],
   "source": [
    "a = 453\n",
    "b = 'anku'\n",
    "c = 20.59\n",
    "d = 3+5j\n",
    "e = True"
   ]
  },
  {
   "cell_type": "code",
   "execution_count": 24,
   "id": "821bdb2a",
   "metadata": {},
   "outputs": [
    {
     "data": {
      "text/plain": [
       "453"
      ]
     },
     "execution_count": 24,
     "metadata": {},
     "output_type": "execute_result"
    }
   ],
   "source": [
    "a"
   ]
  },
  {
   "cell_type": "code",
   "execution_count": 25,
   "id": "29002642",
   "metadata": {},
   "outputs": [
    {
     "data": {
      "text/plain": [
       "'anku'"
      ]
     },
     "execution_count": 25,
     "metadata": {},
     "output_type": "execute_result"
    }
   ],
   "source": [
    "b"
   ]
  },
  {
   "cell_type": "code",
   "execution_count": 26,
   "id": "dfd7e1ec",
   "metadata": {},
   "outputs": [
    {
     "data": {
      "text/plain": [
       "20.59"
      ]
     },
     "execution_count": 26,
     "metadata": {},
     "output_type": "execute_result"
    }
   ],
   "source": [
    "c"
   ]
  },
  {
   "cell_type": "code",
   "execution_count": 27,
   "id": "c6760214",
   "metadata": {},
   "outputs": [
    {
     "data": {
      "text/plain": [
       "(3+5j)"
      ]
     },
     "execution_count": 27,
     "metadata": {},
     "output_type": "execute_result"
    }
   ],
   "source": [
    "d"
   ]
  },
  {
   "cell_type": "code",
   "execution_count": 28,
   "id": "48c238c0",
   "metadata": {},
   "outputs": [
    {
     "data": {
      "text/plain": [
       "True"
      ]
     },
     "execution_count": 28,
     "metadata": {},
     "output_type": "execute_result"
    }
   ],
   "source": [
    "e"
   ]
  },
  {
   "cell_type": "code",
   "execution_count": 29,
   "id": "5876a247",
   "metadata": {},
   "outputs": [],
   "source": [
    "a, b, c, d, e = 256, 'anku', 20.35, 3+5j, True"
   ]
  },
  {
   "cell_type": "code",
   "execution_count": 30,
   "id": "60e01abc",
   "metadata": {},
   "outputs": [
    {
     "data": {
      "text/plain": [
       "256"
      ]
     },
     "execution_count": 30,
     "metadata": {},
     "output_type": "execute_result"
    }
   ],
   "source": [
    "a"
   ]
  },
  {
   "cell_type": "code",
   "execution_count": 31,
   "id": "427c3bf9",
   "metadata": {},
   "outputs": [
    {
     "data": {
      "text/plain": [
       "'anku'"
      ]
     },
     "execution_count": 31,
     "metadata": {},
     "output_type": "execute_result"
    }
   ],
   "source": [
    "b"
   ]
  },
  {
   "cell_type": "code",
   "execution_count": 32,
   "id": "94a9afd3",
   "metadata": {},
   "outputs": [
    {
     "data": {
      "text/plain": [
       "20.35"
      ]
     },
     "execution_count": 32,
     "metadata": {},
     "output_type": "execute_result"
    }
   ],
   "source": [
    "c"
   ]
  },
  {
   "cell_type": "code",
   "execution_count": 33,
   "id": "f91e9b9b",
   "metadata": {},
   "outputs": [
    {
     "data": {
      "text/plain": [
       "(3+5j)"
      ]
     },
     "execution_count": 33,
     "metadata": {},
     "output_type": "execute_result"
    }
   ],
   "source": [
    "d"
   ]
  },
  {
   "cell_type": "code",
   "execution_count": 34,
   "id": "ed199bc7",
   "metadata": {},
   "outputs": [
    {
     "data": {
      "text/plain": [
       "True"
      ]
     },
     "execution_count": 34,
     "metadata": {},
     "output_type": "execute_result"
    }
   ],
   "source": [
    "e"
   ]
  },
  {
   "cell_type": "code",
   "execution_count": 35,
   "id": "ff01c428",
   "metadata": {},
   "outputs": [
    {
     "data": {
      "text/plain": [
       "float"
      ]
     },
     "execution_count": 35,
     "metadata": {},
     "output_type": "execute_result"
    }
   ],
   "source": [
    "type(c)"
   ]
  },
  {
   "cell_type": "code",
   "execution_count": 36,
   "id": "c71774e0",
   "metadata": {},
   "outputs": [
    {
     "data": {
      "text/plain": [
       "complex"
      ]
     },
     "execution_count": 36,
     "metadata": {},
     "output_type": "execute_result"
    }
   ],
   "source": [
    "type(d)"
   ]
  },
  {
   "cell_type": "code",
   "execution_count": 37,
   "id": "bcb0f883",
   "metadata": {},
   "outputs": [
    {
     "data": {
      "text/plain": [
       "int"
      ]
     },
     "execution_count": 37,
     "metadata": {},
     "output_type": "execute_result"
    }
   ],
   "source": [
    "type(a)"
   ]
  },
  {
   "cell_type": "code",
   "execution_count": 38,
   "id": "44262286",
   "metadata": {},
   "outputs": [
    {
     "data": {
      "text/plain": [
       "(3+5j)"
      ]
     },
     "execution_count": 38,
     "metadata": {},
     "output_type": "execute_result"
    }
   ],
   "source": [
    "d"
   ]
  },
  {
   "cell_type": "code",
   "execution_count": 39,
   "id": "4b57ec8f",
   "metadata": {},
   "outputs": [
    {
     "data": {
      "text/plain": [
       "5.0"
      ]
     },
     "execution_count": 39,
     "metadata": {},
     "output_type": "execute_result"
    }
   ],
   "source": [
    "d.imag"
   ]
  },
  {
   "cell_type": "code",
   "execution_count": 40,
   "id": "edf69f27",
   "metadata": {},
   "outputs": [
    {
     "data": {
      "text/plain": [
       "3.0"
      ]
     },
     "execution_count": 40,
     "metadata": {},
     "output_type": "execute_result"
    }
   ],
   "source": [
    "d.real"
   ]
  },
  {
   "cell_type": "code",
   "execution_count": 41,
   "id": "5d24c73b",
   "metadata": {},
   "outputs": [],
   "source": [
    "a = 'ankur'"
   ]
  },
  {
   "cell_type": "code",
   "execution_count": 42,
   "id": "e2a03255",
   "metadata": {},
   "outputs": [
    {
     "data": {
      "text/plain": [
       "'ankur'"
      ]
     },
     "execution_count": 42,
     "metadata": {},
     "output_type": "execute_result"
    }
   ],
   "source": [
    "a"
   ]
  },
  {
   "cell_type": "code",
   "execution_count": 43,
   "id": "ec33cfcd",
   "metadata": {},
   "outputs": [],
   "source": [
    "b = 4"
   ]
  },
  {
   "cell_type": "code",
   "execution_count": 44,
   "id": "27a238ca",
   "metadata": {},
   "outputs": [
    {
     "data": {
      "text/plain": [
       "4"
      ]
     },
     "execution_count": 44,
     "metadata": {},
     "output_type": "execute_result"
    }
   ],
   "source": [
    "b"
   ]
  },
  {
   "cell_type": "code",
   "execution_count": 45,
   "id": "83ee12e8",
   "metadata": {},
   "outputs": [
    {
     "data": {
      "text/plain": [
       "'ankur4'"
      ]
     },
     "execution_count": 45,
     "metadata": {},
     "output_type": "execute_result"
    }
   ],
   "source": [
    "a + str(b)"
   ]
  },
  {
   "cell_type": "code",
   "execution_count": 46,
   "id": "92115a8f",
   "metadata": {},
   "outputs": [
    {
     "data": {
      "text/plain": [
       "2"
      ]
     },
     "execution_count": 46,
     "metadata": {},
     "output_type": "execute_result"
    }
   ],
   "source": [
    "True + True"
   ]
  },
  {
   "cell_type": "code",
   "execution_count": 47,
   "id": "5fc3912e",
   "metadata": {},
   "outputs": [
    {
     "data": {
      "text/plain": [
       "1"
      ]
     },
     "execution_count": 47,
     "metadata": {},
     "output_type": "execute_result"
    }
   ],
   "source": [
    "True + False"
   ]
  },
  {
   "cell_type": "code",
   "execution_count": 48,
   "id": "f1420abe",
   "metadata": {},
   "outputs": [
    {
     "data": {
      "text/plain": [
       "-1"
      ]
     },
     "execution_count": 48,
     "metadata": {},
     "output_type": "execute_result"
    }
   ],
   "source": [
    "False - True"
   ]
  },
  {
   "cell_type": "code",
   "execution_count": 49,
   "id": "08e82377",
   "metadata": {},
   "outputs": [
    {
     "data": {
      "text/plain": [
       "3"
      ]
     },
     "execution_count": 49,
     "metadata": {},
     "output_type": "execute_result"
    }
   ],
   "source": [
    "True + True + True"
   ]
  },
  {
   "cell_type": "code",
   "execution_count": 50,
   "id": "d978bb8e",
   "metadata": {},
   "outputs": [
    {
     "name": "stdout",
     "output_type": "stream",
     "text": [
      "132\n"
     ]
    },
    {
     "data": {
      "text/plain": [
       "'132'"
      ]
     },
     "execution_count": 50,
     "metadata": {},
     "output_type": "execute_result"
    }
   ],
   "source": [
    "input()"
   ]
  },
  {
   "cell_type": "code",
   "execution_count": 51,
   "id": "458d679a",
   "metadata": {},
   "outputs": [
    {
     "name": "stdout",
     "output_type": "stream",
     "text": [
      "232\n"
     ]
    }
   ],
   "source": [
    "a = input()"
   ]
  },
  {
   "cell_type": "code",
   "execution_count": 52,
   "id": "37b1844f",
   "metadata": {},
   "outputs": [
    {
     "data": {
      "text/plain": [
       "'232'"
      ]
     },
     "execution_count": 52,
     "metadata": {},
     "output_type": "execute_result"
    }
   ],
   "source": [
    "a"
   ]
  },
  {
   "cell_type": "code",
   "execution_count": 53,
   "id": "c1e3d2e6",
   "metadata": {},
   "outputs": [],
   "source": [
    "b = 52"
   ]
  },
  {
   "cell_type": "code",
   "execution_count": 54,
   "id": "5fdca751",
   "metadata": {},
   "outputs": [
    {
     "data": {
      "text/plain": [
       "284"
      ]
     },
     "execution_count": 54,
     "metadata": {},
     "output_type": "execute_result"
    }
   ],
   "source": [
    "int(a) + b"
   ]
  },
  {
   "cell_type": "code",
   "execution_count": 55,
   "id": "c917820f",
   "metadata": {},
   "outputs": [
    {
     "data": {
      "text/plain": [
       "'23252'"
      ]
     },
     "execution_count": 55,
     "metadata": {},
     "output_type": "execute_result"
    }
   ],
   "source": [
    "a + str(b)"
   ]
  },
  {
   "cell_type": "code",
   "execution_count": 56,
   "id": "b03d7f0c",
   "metadata": {},
   "outputs": [],
   "source": [
    "\n",
    "\n",
    "\n",
    "#'STRING TRAVERSAL OPERATION'\n",
    "  \n",
    "# -4  -3  -2  -1  0  1  2  3  4  5\n",
    "\n",
    "#    012345678910.....\n",
    "#    my name is ankur\n",
    "#    ........-4-3-2-1Z"
   ]
  },
  {
   "cell_type": "code",
   "execution_count": 57,
   "id": "8e23417a",
   "metadata": {},
   "outputs": [],
   "source": [
    "a = 'ankur'"
   ]
  },
  {
   "cell_type": "code",
   "execution_count": 58,
   "id": "1a01a250",
   "metadata": {},
   "outputs": [
    {
     "data": {
      "text/plain": [
       "str"
      ]
     },
     "execution_count": 58,
     "metadata": {},
     "output_type": "execute_result"
    }
   ],
   "source": [
    "type(a)"
   ]
  },
  {
   "cell_type": "code",
   "execution_count": 59,
   "id": "3857d395",
   "metadata": {},
   "outputs": [
    {
     "data": {
      "text/plain": [
       "'a'"
      ]
     },
     "execution_count": 59,
     "metadata": {},
     "output_type": "execute_result"
    }
   ],
   "source": [
    "a[0]"
   ]
  },
  {
   "cell_type": "code",
   "execution_count": 60,
   "id": "cc2b0b88",
   "metadata": {},
   "outputs": [
    {
     "data": {
      "text/plain": [
       "'n'"
      ]
     },
     "execution_count": 60,
     "metadata": {},
     "output_type": "execute_result"
    }
   ],
   "source": [
    "a[1]"
   ]
  },
  {
   "cell_type": "code",
   "execution_count": 61,
   "id": "fda96a66",
   "metadata": {},
   "outputs": [
    {
     "data": {
      "text/plain": [
       "'k'"
      ]
     },
     "execution_count": 61,
     "metadata": {},
     "output_type": "execute_result"
    }
   ],
   "source": [
    "a[2]"
   ]
  },
  {
   "cell_type": "code",
   "execution_count": 62,
   "id": "08dcfb52",
   "metadata": {},
   "outputs": [
    {
     "data": {
      "text/plain": [
       "'u'"
      ]
     },
     "execution_count": 62,
     "metadata": {},
     "output_type": "execute_result"
    }
   ],
   "source": [
    "a[3]"
   ]
  },
  {
   "cell_type": "code",
   "execution_count": 63,
   "id": "3fb7cdb5",
   "metadata": {},
   "outputs": [
    {
     "data": {
      "text/plain": [
       "'r'"
      ]
     },
     "execution_count": 63,
     "metadata": {},
     "output_type": "execute_result"
    }
   ],
   "source": [
    "a[4]"
   ]
  },
  {
   "cell_type": "code",
   "execution_count": 64,
   "id": "400a41ba",
   "metadata": {},
   "outputs": [
    {
     "data": {
      "text/plain": [
       "'ankur'"
      ]
     },
     "execution_count": 64,
     "metadata": {},
     "output_type": "execute_result"
    }
   ],
   "source": [
    "a"
   ]
  },
  {
   "cell_type": "code",
   "execution_count": 65,
   "id": "95d760ac",
   "metadata": {},
   "outputs": [
    {
     "data": {
      "text/plain": [
       "'r'"
      ]
     },
     "execution_count": 65,
     "metadata": {},
     "output_type": "execute_result"
    }
   ],
   "source": [
    "a[-1]"
   ]
  },
  {
   "cell_type": "code",
   "execution_count": 66,
   "id": "2c043da9",
   "metadata": {},
   "outputs": [
    {
     "data": {
      "text/plain": [
       "'u'"
      ]
     },
     "execution_count": 66,
     "metadata": {},
     "output_type": "execute_result"
    }
   ],
   "source": [
    "a[-2]"
   ]
  },
  {
   "cell_type": "code",
   "execution_count": 67,
   "id": "5fad293b",
   "metadata": {},
   "outputs": [
    {
     "data": {
      "text/plain": [
       "'k'"
      ]
     },
     "execution_count": 67,
     "metadata": {},
     "output_type": "execute_result"
    }
   ],
   "source": [
    "a[-3]"
   ]
  },
  {
   "cell_type": "code",
   "execution_count": 68,
   "id": "3ae66fe7",
   "metadata": {},
   "outputs": [
    {
     "data": {
      "text/plain": [
       "'ankur'"
      ]
     },
     "execution_count": 68,
     "metadata": {},
     "output_type": "execute_result"
    }
   ],
   "source": [
    "a"
   ]
  },
  {
   "cell_type": "code",
   "execution_count": 69,
   "id": "c4876f94",
   "metadata": {},
   "outputs": [],
   "source": [
    "a = \"my name is ankur\""
   ]
  },
  {
   "cell_type": "code",
   "execution_count": 70,
   "id": "56d89b33",
   "metadata": {},
   "outputs": [
    {
     "data": {
      "text/plain": [
       "'my name is ankur'"
      ]
     },
     "execution_count": 70,
     "metadata": {},
     "output_type": "execute_result"
    }
   ],
   "source": [
    "a"
   ]
  },
  {
   "cell_type": "code",
   "execution_count": 71,
   "id": "cf40e06a",
   "metadata": {},
   "outputs": [
    {
     "data": {
      "text/plain": [
       "'my name is'"
      ]
     },
     "execution_count": 71,
     "metadata": {},
     "output_type": "execute_result"
    }
   ],
   "source": [
    "a[0:10]"
   ]
  },
  {
   "cell_type": "code",
   "execution_count": 72,
   "id": "0d304288",
   "metadata": {},
   "outputs": [
    {
     "data": {
      "text/plain": [
       "''"
      ]
     },
     "execution_count": 72,
     "metadata": {},
     "output_type": "execute_result"
    }
   ],
   "source": [
    "a[-1:-3]"
   ]
  },
  {
   "cell_type": "code",
   "execution_count": 73,
   "id": "0fd6cb4d",
   "metadata": {},
   "outputs": [
    {
     "data": {
      "text/plain": [
       "'my name is ankur'"
      ]
     },
     "execution_count": 73,
     "metadata": {},
     "output_type": "execute_result"
    }
   ],
   "source": [
    "a[0:300]"
   ]
  },
  {
   "cell_type": "code",
   "execution_count": 74,
   "id": "b6e60296",
   "metadata": {},
   "outputs": [
    {
     "data": {
      "text/plain": [
       "'my name is ankur'"
      ]
     },
     "execution_count": 74,
     "metadata": {},
     "output_type": "execute_result"
    }
   ],
   "source": [
    "a[0:300:1]"
   ]
  },
  {
   "cell_type": "code",
   "execution_count": 75,
   "id": "0d44a3ff",
   "metadata": {},
   "outputs": [
    {
     "data": {
      "text/plain": [
       "'m aei nu'"
      ]
     },
     "execution_count": 75,
     "metadata": {},
     "output_type": "execute_result"
    }
   ],
   "source": [
    "a[0:300:2]"
   ]
  },
  {
   "cell_type": "code",
   "execution_count": 76,
   "id": "eda1d6ac",
   "metadata": {},
   "outputs": [
    {
     "data": {
      "text/plain": [
       "''"
      ]
     },
     "execution_count": 76,
     "metadata": {},
     "output_type": "execute_result"
    }
   ],
   "source": [
    "a[0:300:-1]"
   ]
  },
  {
   "cell_type": "code",
   "execution_count": 77,
   "id": "0fb11b38",
   "metadata": {},
   "outputs": [
    {
     "data": {
      "text/plain": [
       "''"
      ]
     },
     "execution_count": 77,
     "metadata": {},
     "output_type": "execute_result"
    }
   ],
   "source": [
    "a[-1:-300]"
   ]
  },
  {
   "cell_type": "code",
   "execution_count": 78,
   "id": "aa3745f4",
   "metadata": {},
   "outputs": [
    {
     "data": {
      "text/plain": [
       "'rukna si eman ym'"
      ]
     },
     "execution_count": 78,
     "metadata": {},
     "output_type": "execute_result"
    }
   ],
   "source": [
    "a[-1:-300:-1]"
   ]
  },
  {
   "cell_type": "code",
   "execution_count": 79,
   "id": "cbf3a823",
   "metadata": {},
   "outputs": [
    {
     "data": {
      "text/plain": [
       "'rkas mny'"
      ]
     },
     "execution_count": 79,
     "metadata": {},
     "output_type": "execute_result"
    }
   ],
   "source": [
    "a[-1:-300:-2]"
   ]
  },
  {
   "cell_type": "code",
   "execution_count": 80,
   "id": "5ecac649",
   "metadata": {},
   "outputs": [
    {
     "data": {
      "text/plain": [
       "'my name is ankur'"
      ]
     },
     "execution_count": 80,
     "metadata": {},
     "output_type": "execute_result"
    }
   ],
   "source": [
    "a[::]"
   ]
  },
  {
   "cell_type": "code",
   "execution_count": 81,
   "id": "5710ace6",
   "metadata": {},
   "outputs": [
    {
     "data": {
      "text/plain": [
       "'my name '"
      ]
     },
     "execution_count": 81,
     "metadata": {},
     "output_type": "execute_result"
    }
   ],
   "source": [
    "a[:8]"
   ]
  },
  {
   "cell_type": "code",
   "execution_count": 82,
   "id": "7593f324",
   "metadata": {},
   "outputs": [
    {
     "data": {
      "text/plain": [
       "'r'"
      ]
     },
     "execution_count": 82,
     "metadata": {},
     "output_type": "execute_result"
    }
   ],
   "source": [
    "a[-1:]"
   ]
  },
  {
   "cell_type": "code",
   "execution_count": 83,
   "id": "4c09398a",
   "metadata": {},
   "outputs": [
    {
     "data": {
      "text/plain": [
       "'ur'"
      ]
     },
     "execution_count": 83,
     "metadata": {},
     "output_type": "execute_result"
    }
   ],
   "source": [
    "a[-2:]"
   ]
  },
  {
   "cell_type": "code",
   "execution_count": 84,
   "id": "e684343a",
   "metadata": {},
   "outputs": [
    {
     "data": {
      "text/plain": [
       "'nu'"
      ]
     },
     "execution_count": 84,
     "metadata": {},
     "output_type": "execute_result"
    }
   ],
   "source": [
    "a[-4::2]"
   ]
  },
  {
   "cell_type": "code",
   "execution_count": 85,
   "id": "64dbc078",
   "metadata": {},
   "outputs": [
    {
     "data": {
      "text/plain": [
       "'ankurbobade'"
      ]
     },
     "execution_count": 85,
     "metadata": {},
     "output_type": "execute_result"
    }
   ],
   "source": [
    "'ankur' + 'bobade'"
   ]
  },
  {
   "cell_type": "code",
   "execution_count": 86,
   "id": "6709b409",
   "metadata": {},
   "outputs": [
    {
     "data": {
      "text/plain": [
       "'ankurankurankur'"
      ]
     },
     "execution_count": 86,
     "metadata": {},
     "output_type": "execute_result"
    }
   ],
   "source": [
    "'ankur'*3\n"
   ]
  },
  {
   "cell_type": "code",
   "execution_count": 87,
   "id": "b4f73947",
   "metadata": {},
   "outputs": [
    {
     "data": {
      "text/plain": [
       "'my name is ankur'"
      ]
     },
     "execution_count": 87,
     "metadata": {},
     "output_type": "execute_result"
    }
   ],
   "source": [
    "a"
   ]
  },
  {
   "cell_type": "code",
   "execution_count": 88,
   "id": "429f2e35",
   "metadata": {},
   "outputs": [
    {
     "data": {
      "text/plain": [
       "16"
      ]
     },
     "execution_count": 88,
     "metadata": {},
     "output_type": "execute_result"
    }
   ],
   "source": [
    "len(a)"
   ]
  },
  {
   "cell_type": "code",
   "execution_count": 89,
   "id": "51784102",
   "metadata": {},
   "outputs": [
    {
     "data": {
      "text/plain": [
       "4"
      ]
     },
     "execution_count": 89,
     "metadata": {},
     "output_type": "execute_result"
    }
   ],
   "source": [
    "a.find('a')      #Find first occurance of letter 'a'"
   ]
  },
  {
   "cell_type": "code",
   "execution_count": 90,
   "id": "7844091c",
   "metadata": {},
   "outputs": [
    {
     "data": {
      "text/plain": [
       "8"
      ]
     },
     "execution_count": 90,
     "metadata": {},
     "output_type": "execute_result"
    }
   ],
   "source": [
    "a.find('i')"
   ]
  },
  {
   "cell_type": "code",
   "execution_count": 91,
   "id": "66fe3508",
   "metadata": {},
   "outputs": [
    {
     "data": {
      "text/plain": [
       "-1"
      ]
     },
     "execution_count": 91,
     "metadata": {},
     "output_type": "execute_result"
    }
   ],
   "source": [
    "a.find('ia')"
   ]
  },
  {
   "cell_type": "code",
   "execution_count": 92,
   "id": "91dfe00e",
   "metadata": {},
   "outputs": [
    {
     "data": {
      "text/plain": [
       "4"
      ]
     },
     "execution_count": 92,
     "metadata": {},
     "output_type": "execute_result"
    }
   ],
   "source": [
    "a.find('am')"
   ]
  },
  {
   "cell_type": "code",
   "execution_count": 93,
   "id": "84634e65",
   "metadata": {},
   "outputs": [
    {
     "data": {
      "text/plain": [
       "14"
      ]
     },
     "execution_count": 93,
     "metadata": {},
     "output_type": "execute_result"
    }
   ],
   "source": [
    "a.find('ur')"
   ]
  },
  {
   "cell_type": "code",
   "execution_count": 94,
   "id": "573fa216",
   "metadata": {},
   "outputs": [
    {
     "data": {
      "text/plain": [
       "2"
      ]
     },
     "execution_count": 94,
     "metadata": {},
     "output_type": "execute_result"
    }
   ],
   "source": [
    "a.count('a')     #count the number of a's"
   ]
  },
  {
   "cell_type": "code",
   "execution_count": 95,
   "id": "a322ee17",
   "metadata": {},
   "outputs": [
    {
     "data": {
      "text/plain": [
       "0"
      ]
     },
     "execution_count": 95,
     "metadata": {},
     "output_type": "execute_result"
    }
   ],
   "source": [
    "a.count('z')"
   ]
  },
  {
   "cell_type": "code",
   "execution_count": 96,
   "id": "1b393fcd",
   "metadata": {},
   "outputs": [
    {
     "data": {
      "text/plain": [
       "'my name is ankur'"
      ]
     },
     "execution_count": 96,
     "metadata": {},
     "output_type": "execute_result"
    }
   ],
   "source": [
    "a"
   ]
  },
  {
   "cell_type": "code",
   "execution_count": 97,
   "id": "60204e4c",
   "metadata": {},
   "outputs": [],
   "source": [
    "x = a.split()"
   ]
  },
  {
   "cell_type": "code",
   "execution_count": 98,
   "id": "5f80bc7a",
   "metadata": {},
   "outputs": [
    {
     "data": {
      "text/plain": [
       "['my', 'name', 'is', 'ankur']"
      ]
     },
     "execution_count": 98,
     "metadata": {},
     "output_type": "execute_result"
    }
   ],
   "source": [
    "x"
   ]
  },
  {
   "cell_type": "code",
   "execution_count": 99,
   "id": "95b56fd9",
   "metadata": {},
   "outputs": [
    {
     "data": {
      "text/plain": [
       "['my', 'is']"
      ]
     },
     "execution_count": 99,
     "metadata": {},
     "output_type": "execute_result"
    }
   ],
   "source": [
    "x[::2]"
   ]
  },
  {
   "cell_type": "code",
   "execution_count": 100,
   "id": "4be507a9",
   "metadata": {},
   "outputs": [
    {
     "data": {
      "text/plain": [
       "['my', 'ankur']"
      ]
     },
     "execution_count": 100,
     "metadata": {},
     "output_type": "execute_result"
    }
   ],
   "source": [
    "x[0:10:3]"
   ]
  },
  {
   "cell_type": "code",
   "execution_count": 101,
   "id": "8c98621a",
   "metadata": {},
   "outputs": [
    {
     "data": {
      "text/plain": [
       "['my n', 'me is ', 'nkur']"
      ]
     },
     "execution_count": 101,
     "metadata": {},
     "output_type": "execute_result"
    }
   ],
   "source": [
    "a.split('a')         #split the data set base on the letter/word (telimeter) specified"
   ]
  },
  {
   "cell_type": "code",
   "execution_count": 102,
   "id": "bdbf4699",
   "metadata": {},
   "outputs": [
    {
     "data": {
      "text/plain": [
       "['my name is ', 'kur']"
      ]
     },
     "execution_count": 102,
     "metadata": {},
     "output_type": "execute_result"
    }
   ],
   "source": [
    "a.split('an')"
   ]
  },
  {
   "cell_type": "code",
   "execution_count": 103,
   "id": "467048de",
   "metadata": {},
   "outputs": [
    {
     "data": {
      "text/plain": [
       "'MY NAME IS ANKUR'"
      ]
     },
     "execution_count": 103,
     "metadata": {},
     "output_type": "execute_result"
    }
   ],
   "source": [
    "a.upper()"
   ]
  },
  {
   "cell_type": "code",
   "execution_count": 104,
   "id": "c7b32a61",
   "metadata": {},
   "outputs": [
    {
     "data": {
      "text/plain": [
       "'my name is ankur'"
      ]
     },
     "execution_count": 104,
     "metadata": {},
     "output_type": "execute_result"
    }
   ],
   "source": [
    "a.lower()"
   ]
  },
  {
   "cell_type": "code",
   "execution_count": 105,
   "id": "f8c65ba3",
   "metadata": {},
   "outputs": [],
   "source": [
    "A = \"aNkuR\""
   ]
  },
  {
   "cell_type": "code",
   "execution_count": 106,
   "id": "5e80c280",
   "metadata": {},
   "outputs": [
    {
     "data": {
      "text/plain": [
       "'AnKUr'"
      ]
     },
     "execution_count": 106,
     "metadata": {},
     "output_type": "execute_result"
    }
   ],
   "source": [
    "A.swapcase()"
   ]
  },
  {
   "cell_type": "code",
   "execution_count": 107,
   "id": "63e139d9",
   "metadata": {},
   "outputs": [
    {
     "data": {
      "text/plain": [
       "'aNkuR'"
      ]
     },
     "execution_count": 107,
     "metadata": {},
     "output_type": "execute_result"
    }
   ],
   "source": [
    "A"
   ]
  },
  {
   "cell_type": "code",
   "execution_count": 108,
   "id": "a42e4b30",
   "metadata": {},
   "outputs": [
    {
     "data": {
      "text/plain": [
       "'Ankur'"
      ]
     },
     "execution_count": 108,
     "metadata": {},
     "output_type": "execute_result"
    }
   ],
   "source": [
    "A.title()"
   ]
  },
  {
   "cell_type": "code",
   "execution_count": 109,
   "id": "b192a43c",
   "metadata": {},
   "outputs": [
    {
     "data": {
      "text/plain": [
       "'Ankur'"
      ]
     },
     "execution_count": 109,
     "metadata": {},
     "output_type": "execute_result"
    }
   ],
   "source": [
    "A.capitalize()        #title and capitalize is same"
   ]
  },
  {
   "cell_type": "code",
   "execution_count": 110,
   "id": "0b6ff783",
   "metadata": {},
   "outputs": [],
   "source": [
    "b = 'ankur'\n",
    "c = 'bobade'"
   ]
  },
  {
   "cell_type": "code",
   "execution_count": 111,
   "id": "4f143f4a",
   "metadata": {},
   "outputs": [
    {
     "data": {
      "text/plain": [
       "'bankuroankurbankuraankurdankure'"
      ]
     },
     "execution_count": 111,
     "metadata": {},
     "output_type": "execute_result"
    }
   ],
   "source": [
    "b.join(c)"
   ]
  },
  {
   "cell_type": "code",
   "execution_count": 112,
   "id": "2ebd5fcf",
   "metadata": {},
   "outputs": [
    {
     "data": {
      "text/plain": [
       "'a n k u r'"
      ]
     },
     "execution_count": 112,
     "metadata": {},
     "output_type": "execute_result"
    }
   ],
   "source": [
    "\" \".join(\"ankur\")       #after every character join a space or anything"
   ]
  },
  {
   "cell_type": "code",
   "execution_count": 113,
   "id": "4a12107d",
   "metadata": {},
   "outputs": [
    {
     "data": {
      "text/plain": [
       "<reversed at 0x22d71d4c1c0>"
      ]
     },
     "execution_count": 113,
     "metadata": {},
     "output_type": "execute_result"
    }
   ],
   "source": [
    "reversed(b)"
   ]
  },
  {
   "cell_type": "code",
   "execution_count": 114,
   "id": "2216cf8f",
   "metadata": {},
   "outputs": [],
   "source": [
    "b = ' anku '"
   ]
  },
  {
   "cell_type": "code",
   "execution_count": 115,
   "id": "9df58493",
   "metadata": {},
   "outputs": [
    {
     "data": {
      "text/plain": [
       "'anku'"
      ]
     },
     "execution_count": 115,
     "metadata": {},
     "output_type": "execute_result"
    }
   ],
   "source": [
    "b.strip()"
   ]
  },
  {
   "cell_type": "code",
   "execution_count": 116,
   "id": "d08ae77d",
   "metadata": {},
   "outputs": [
    {
     "data": {
      "text/plain": [
       "'anku '"
      ]
     },
     "execution_count": 116,
     "metadata": {},
     "output_type": "execute_result"
    }
   ],
   "source": [
    "b.lstrip()"
   ]
  },
  {
   "cell_type": "code",
   "execution_count": 117,
   "id": "f707d52d",
   "metadata": {},
   "outputs": [
    {
     "data": {
      "text/plain": [
       "' anku'"
      ]
     },
     "execution_count": 117,
     "metadata": {},
     "output_type": "execute_result"
    }
   ],
   "source": [
    "b.rstrip()"
   ]
  },
  {
   "cell_type": "code",
   "execution_count": 118,
   "id": "ae96bc49",
   "metadata": {},
   "outputs": [
    {
     "data": {
      "text/plain": [
       "' xyznku '"
      ]
     },
     "execution_count": 118,
     "metadata": {},
     "output_type": "execute_result"
    }
   ],
   "source": [
    "b.replace('a', 'xyz')"
   ]
  },
  {
   "cell_type": "code",
   "execution_count": 119,
   "id": "e5a5ff1e",
   "metadata": {},
   "outputs": [
    {
     "data": {
      "text/plain": [
       "'ankur   bobade'"
      ]
     },
     "execution_count": 119,
     "metadata": {},
     "output_type": "execute_result"
    }
   ],
   "source": [
    "'ankur\\tbobade'.expandtabs()"
   ]
  },
  {
   "cell_type": "code",
   "execution_count": 120,
   "id": "7b4501e1",
   "metadata": {},
   "outputs": [],
   "source": [
    "b = \"ankur\""
   ]
  },
  {
   "cell_type": "code",
   "execution_count": 121,
   "id": "90b412f0",
   "metadata": {},
   "outputs": [
    {
     "data": {
      "text/plain": [
       "'xxxxxxxxxxxxxxxxxankurxxxxxxxxxxxxxxxxxx'"
      ]
     },
     "execution_count": 121,
     "metadata": {},
     "output_type": "execute_result"
    }
   ],
   "source": [
    "b.center(40, 'x')"
   ]
  },
  {
   "cell_type": "code",
   "execution_count": 122,
   "id": "934c09ba",
   "metadata": {},
   "outputs": [
    {
     "data": {
      "text/plain": [
       "'@@@@@@@@@@@@@@@@@ankur@@@@@@@@@@@@@@@@@@'"
      ]
     },
     "execution_count": 122,
     "metadata": {},
     "output_type": "execute_result"
    }
   ],
   "source": [
    "b.center(40, '@')"
   ]
  },
  {
   "cell_type": "code",
   "execution_count": 123,
   "id": "e1702d03",
   "metadata": {},
   "outputs": [
    {
     "data": {
      "text/plain": [
       "'             indians are best in the world'"
      ]
     },
     "execution_count": 123,
     "metadata": {},
     "output_type": "execute_result"
    }
   ],
   "source": [
    "x= \"             indians are best in the world\"\n",
    "x.strip('a')"
   ]
  },
  {
   "cell_type": "code",
   "execution_count": 124,
   "id": "6ab311b9",
   "metadata": {},
   "outputs": [],
   "source": [
    "b = \"ANKUR\"\n"
   ]
  },
  {
   "cell_type": "code",
   "execution_count": 125,
   "id": "93e2c52e",
   "metadata": {},
   "outputs": [
    {
     "data": {
      "text/plain": [
       "True"
      ]
     },
     "execution_count": 125,
     "metadata": {},
     "output_type": "execute_result"
    }
   ],
   "source": [
    "b.isupper()"
   ]
  },
  {
   "cell_type": "code",
   "execution_count": 126,
   "id": "83e2d496",
   "metadata": {},
   "outputs": [
    {
     "data": {
      "text/plain": [
       "False"
      ]
     },
     "execution_count": 126,
     "metadata": {},
     "output_type": "execute_result"
    }
   ],
   "source": [
    "b.isdigit()\n"
   ]
  },
  {
   "cell_type": "code",
   "execution_count": 127,
   "id": "24468250",
   "metadata": {},
   "outputs": [
    {
     "data": {
      "text/plain": [
       "True"
      ]
     },
     "execution_count": 127,
     "metadata": {},
     "output_type": "execute_result"
    }
   ],
   "source": [
    "b.isalpha()"
   ]
  },
  {
   "cell_type": "code",
   "execution_count": 128,
   "id": "ce518ec7",
   "metadata": {},
   "outputs": [
    {
     "data": {
      "text/plain": [
       "b'ANKUR'"
      ]
     },
     "execution_count": 128,
     "metadata": {},
     "output_type": "execute_result"
    }
   ],
   "source": [
    "b.encode('utf-8')"
   ]
  },
  {
   "cell_type": "code",
   "execution_count": 158,
   "id": "923a202b",
   "metadata": {},
   "outputs": [],
   "source": [
    "l = [\"aankur\", 1356, 23.0523, 2+8j, True]"
   ]
  },
  {
   "cell_type": "code",
   "execution_count": 130,
   "id": "9be48ab5",
   "metadata": {},
   "outputs": [
    {
     "data": {
      "text/plain": [
       "list"
      ]
     },
     "execution_count": 130,
     "metadata": {},
     "output_type": "execute_result"
    }
   ],
   "source": [
    "type(l)"
   ]
  },
  {
   "cell_type": "code",
   "execution_count": 131,
   "id": "52fd2411",
   "metadata": {},
   "outputs": [
    {
     "data": {
      "text/plain": [
       "1356"
      ]
     },
     "execution_count": 131,
     "metadata": {},
     "output_type": "execute_result"
    }
   ],
   "source": [
    "l[-4]"
   ]
  },
  {
   "cell_type": "code",
   "execution_count": 132,
   "id": "84629d5e",
   "metadata": {},
   "outputs": [
    {
     "data": {
      "text/plain": [
       "23.0523"
      ]
     },
     "execution_count": 132,
     "metadata": {},
     "output_type": "execute_result"
    }
   ],
   "source": [
    "l[2]"
   ]
  },
  {
   "cell_type": "code",
   "execution_count": 133,
   "id": "5ef510e9",
   "metadata": {},
   "outputs": [
    {
     "data": {
      "text/plain": [
       "['ankur', 1356, 23.0523, (2+8j)]"
      ]
     },
     "execution_count": 133,
     "metadata": {},
     "output_type": "execute_result"
    }
   ],
   "source": [
    "l[0:4]"
   ]
  },
  {
   "cell_type": "code",
   "execution_count": 134,
   "id": "efa18d12",
   "metadata": {},
   "outputs": [
    {
     "data": {
      "text/plain": [
       "['ankur', 1356, 23.0523, (2+8j), True]"
      ]
     },
     "execution_count": 134,
     "metadata": {},
     "output_type": "execute_result"
    }
   ],
   "source": [
    "l[::]"
   ]
  },
  {
   "cell_type": "code",
   "execution_count": 135,
   "id": "73610408",
   "metadata": {},
   "outputs": [
    {
     "data": {
      "text/plain": [
       "[True, (2+8j), 23.0523, 1356, 'ankur']"
      ]
     },
     "execution_count": 135,
     "metadata": {},
     "output_type": "execute_result"
    }
   ],
   "source": [
    "l[::-1]"
   ]
  },
  {
   "cell_type": "code",
   "execution_count": 136,
   "id": "bddda459",
   "metadata": {},
   "outputs": [
    {
     "data": {
      "text/plain": [
       "[True]"
      ]
     },
     "execution_count": 136,
     "metadata": {},
     "output_type": "execute_result"
    }
   ],
   "source": [
    "l[-1:6]"
   ]
  },
  {
   "cell_type": "code",
   "execution_count": 137,
   "id": "6bbb8fb7",
   "metadata": {},
   "outputs": [
    {
     "data": {
      "text/plain": [
       "[]"
      ]
     },
     "execution_count": 137,
     "metadata": {},
     "output_type": "execute_result"
    }
   ],
   "source": [
    "l[-1:3]"
   ]
  },
  {
   "cell_type": "code",
   "execution_count": 138,
   "id": "0874bfa5",
   "metadata": {},
   "outputs": [
    {
     "data": {
      "text/plain": [
       "'n'"
      ]
     },
     "execution_count": 138,
     "metadata": {},
     "output_type": "execute_result"
    }
   ],
   "source": [
    "l[0][1]"
   ]
  },
  {
   "cell_type": "code",
   "execution_count": 139,
   "id": "8c0eb6cc",
   "metadata": {},
   "outputs": [
    {
     "data": {
      "text/plain": [
       "['ankur', 1356, 23.0523, (2+8j), True]"
      ]
     },
     "execution_count": 139,
     "metadata": {},
     "output_type": "execute_result"
    }
   ],
   "source": [
    "l"
   ]
  },
  {
   "cell_type": "code",
   "execution_count": 140,
   "id": "78d0e989",
   "metadata": {},
   "outputs": [
    {
     "data": {
      "text/plain": [
       "str"
      ]
     },
     "execution_count": 140,
     "metadata": {},
     "output_type": "execute_result"
    }
   ],
   "source": [
    "type(l[0])"
   ]
  },
  {
   "cell_type": "code",
   "execution_count": 141,
   "id": "6d1f2051",
   "metadata": {},
   "outputs": [
    {
     "data": {
      "text/plain": [
       "bool"
      ]
     },
     "execution_count": 141,
     "metadata": {},
     "output_type": "execute_result"
    }
   ],
   "source": [
    "type(l[4])"
   ]
  },
  {
   "cell_type": "code",
   "execution_count": 142,
   "id": "4a2dea1e",
   "metadata": {},
   "outputs": [
    {
     "data": {
      "text/plain": [
       "'n'"
      ]
     },
     "execution_count": 142,
     "metadata": {},
     "output_type": "execute_result"
    }
   ],
   "source": [
    "l[0][1]"
   ]
  },
  {
   "cell_type": "code",
   "execution_count": 143,
   "id": "65b8e282",
   "metadata": {},
   "outputs": [
    {
     "data": {
      "text/plain": [
       "2.0"
      ]
     },
     "execution_count": 143,
     "metadata": {},
     "output_type": "execute_result"
    }
   ],
   "source": [
    "l[3].real"
   ]
  },
  {
   "cell_type": "code",
   "execution_count": 144,
   "id": "6d7f21be",
   "metadata": {},
   "outputs": [
    {
     "data": {
      "text/plain": [
       "['ankur', 1356, 23.0523, (2+8j), True]"
      ]
     },
     "execution_count": 144,
     "metadata": {},
     "output_type": "execute_result"
    }
   ],
   "source": [
    "l"
   ]
  },
  {
   "cell_type": "code",
   "execution_count": 145,
   "id": "f2f4a5c6",
   "metadata": {},
   "outputs": [
    {
     "data": {
      "text/plain": [
       "'a'"
      ]
     },
     "execution_count": 145,
     "metadata": {},
     "output_type": "execute_result"
    }
   ],
   "source": [
    "l[0][0] "
   ]
  },
  {
   "cell_type": "code",
   "execution_count": 146,
   "id": "8863540f",
   "metadata": {},
   "outputs": [],
   "source": [
    "a = \"ankur\"          #string is not a mutable enitiy"
   ]
  },
  {
   "cell_type": "code",
   "execution_count": null,
   "id": "8386cc72",
   "metadata": {},
   "outputs": [],
   "source": []
  },
  {
   "cell_type": "code",
   "execution_count": 147,
   "id": "3121b670",
   "metadata": {},
   "outputs": [
    {
     "data": {
      "text/plain": [
       "['ankur', 1356, 23.0523, (2+8j), True]"
      ]
     },
     "execution_count": 147,
     "metadata": {},
     "output_type": "execute_result"
    }
   ],
   "source": [
    "l"
   ]
  },
  {
   "cell_type": "code",
   "execution_count": 148,
   "id": "4e29560c",
   "metadata": {},
   "outputs": [
    {
     "data": {
      "text/plain": [
       "'ankur'"
      ]
     },
     "execution_count": 148,
     "metadata": {},
     "output_type": "execute_result"
    }
   ],
   "source": [
    "l[0]"
   ]
  },
  {
   "cell_type": "code",
   "execution_count": 161,
   "id": "4db84e48",
   "metadata": {},
   "outputs": [],
   "source": [
    "l[0] = \"Ankur\"           # list is a mutable enitiy"
   ]
  },
  {
   "cell_type": "code",
   "execution_count": 203,
   "id": "7ad0960e",
   "metadata": {},
   "outputs": [],
   "source": [
    "l1 = [\"AankurA\", 1356, 23.0523, 2+8j, True]\n",
    "l2 = [\"India\", 4125, 265.323, 8+8j, False]"
   ]
  },
  {
   "cell_type": "code",
   "execution_count": 204,
   "id": "a5b462d6",
   "metadata": {},
   "outputs": [
    {
     "data": {
      "text/plain": [
       "'zankurz'"
      ]
     },
     "execution_count": 204,
     "metadata": {},
     "output_type": "execute_result"
    }
   ],
   "source": [
    "l1[0].replace('A', 'z')"
   ]
  },
  {
   "cell_type": "code",
   "execution_count": 205,
   "id": "85c544f3",
   "metadata": {},
   "outputs": [
    {
     "data": {
      "text/plain": [
       "['AankurA', 1356, 23.0523, (2+8j), True]"
      ]
     },
     "execution_count": 205,
     "metadata": {},
     "output_type": "execute_result"
    }
   ],
   "source": [
    "l1"
   ]
  },
  {
   "cell_type": "code",
   "execution_count": 206,
   "id": "da3c0524",
   "metadata": {},
   "outputs": [
    {
     "data": {
      "text/plain": [
       "5"
      ]
     },
     "execution_count": 206,
     "metadata": {},
     "output_type": "execute_result"
    }
   ],
   "source": [
    "len(l1)"
   ]
  },
  {
   "cell_type": "code",
   "execution_count": 207,
   "id": "ceafdf2d",
   "metadata": {},
   "outputs": [
    {
     "data": {
      "text/plain": [
       "True"
      ]
     },
     "execution_count": 207,
     "metadata": {},
     "output_type": "execute_result"
    }
   ],
   "source": [
    "1356 in l1"
   ]
  },
  {
   "cell_type": "code",
   "execution_count": 208,
   "id": "fafdd25c",
   "metadata": {},
   "outputs": [
    {
     "data": {
      "text/plain": [
       "['India', 4125, 265.323, (8+8j), False]"
      ]
     },
     "execution_count": 208,
     "metadata": {},
     "output_type": "execute_result"
    }
   ],
   "source": [
    "l2"
   ]
  },
  {
   "cell_type": "code",
   "execution_count": 209,
   "id": "e5e39af1",
   "metadata": {},
   "outputs": [],
   "source": [
    "l2.append(\"last element\")"
   ]
  },
  {
   "cell_type": "code",
   "execution_count": 210,
   "id": "d207d032",
   "metadata": {},
   "outputs": [
    {
     "data": {
      "text/plain": [
       "['India', 4125, 265.323, (8+8j), False, 'last element']"
      ]
     },
     "execution_count": 210,
     "metadata": {},
     "output_type": "execute_result"
    }
   ],
   "source": [
    "l2"
   ]
  },
  {
   "cell_type": "code",
   "execution_count": 211,
   "id": "cb89bdc0",
   "metadata": {},
   "outputs": [
    {
     "data": {
      "text/plain": [
       "'last element'"
      ]
     },
     "execution_count": 211,
     "metadata": {},
     "output_type": "execute_result"
    }
   ],
   "source": [
    "l2.pop()"
   ]
  },
  {
   "cell_type": "code",
   "execution_count": 212,
   "id": "92793f4d",
   "metadata": {},
   "outputs": [
    {
     "data": {
      "text/plain": [
       "['India', 4125, 265.323, (8+8j), False]"
      ]
     },
     "execution_count": 212,
     "metadata": {},
     "output_type": "execute_result"
    }
   ],
   "source": [
    "l2"
   ]
  },
  {
   "cell_type": "code",
   "execution_count": 213,
   "id": "d1715791",
   "metadata": {},
   "outputs": [
    {
     "data": {
      "text/plain": [
       "265.323"
      ]
     },
     "execution_count": 213,
     "metadata": {},
     "output_type": "execute_result"
    }
   ],
   "source": [
    "l2.pop(2)"
   ]
  },
  {
   "cell_type": "code",
   "execution_count": 214,
   "id": "a39ba47a",
   "metadata": {},
   "outputs": [
    {
     "data": {
      "text/plain": [
       "['India', 4125, (8+8j), False]"
      ]
     },
     "execution_count": 214,
     "metadata": {},
     "output_type": "execute_result"
    }
   ],
   "source": [
    "l2"
   ]
  },
  {
   "cell_type": "code",
   "execution_count": 215,
   "id": "43559e64",
   "metadata": {},
   "outputs": [],
   "source": [
    "l2.insert(2, 265.323)"
   ]
  },
  {
   "cell_type": "code",
   "execution_count": 216,
   "id": "c7e6cc70",
   "metadata": {},
   "outputs": [
    {
     "data": {
      "text/plain": [
       "['India', 4125, 265.323, (8+8j), False]"
      ]
     },
     "execution_count": 216,
     "metadata": {},
     "output_type": "execute_result"
    }
   ],
   "source": [
    "l2"
   ]
  },
  {
   "cell_type": "code",
   "execution_count": 217,
   "id": "7a91545f",
   "metadata": {},
   "outputs": [],
   "source": [
    "l2.insert(4, [23, 32.3, \"xyz\", True])"
   ]
  },
  {
   "cell_type": "code",
   "execution_count": 219,
   "id": "b5ac9fc4",
   "metadata": {},
   "outputs": [
    {
     "data": {
      "text/plain": [
       "['India', 4125, 265.323, (8+8j), [23, 32.3, 'xyz', True], False]"
      ]
     },
     "execution_count": 219,
     "metadata": {},
     "output_type": "execute_result"
    }
   ],
   "source": [
    "l2"
   ]
  },
  {
   "cell_type": "markdown",
   "id": "f7d38364",
   "metadata": {},
   "source": []
  },
  {
   "cell_type": "markdown",
   "id": "bd1e63bb",
   "metadata": {},
   "source": [
    "## "
   ]
  },
  {
   "cell_type": "code",
   "execution_count": 220,
   "id": "e431471c",
   "metadata": {},
   "outputs": [
    {
     "data": {
      "text/plain": [
       "[False, [23, 32.3, 'xyz', True], (8+8j), 265.323, 4125, 'India']"
      ]
     },
     "execution_count": 220,
     "metadata": {},
     "output_type": "execute_result"
    }
   ],
   "source": [
    "l2[::-1]"
   ]
  },
  {
   "cell_type": "code",
   "execution_count": 221,
   "id": "b033837b",
   "metadata": {},
   "outputs": [],
   "source": [
    "l2.reverse()"
   ]
  },
  {
   "cell_type": "code",
   "execution_count": 223,
   "id": "f285a5b5",
   "metadata": {},
   "outputs": [
    {
     "data": {
      "text/plain": [
       "[False, [23, 32.3, 'xyz', True], (8+8j), 265.323, 4125, 'India']"
      ]
     },
     "execution_count": 223,
     "metadata": {},
     "output_type": "execute_result"
    }
   ],
   "source": [
    "l2"
   ]
  },
  {
   "cell_type": "code",
   "execution_count": 224,
   "id": "8c77f443",
   "metadata": {},
   "outputs": [
    {
     "data": {
      "text/plain": [
       "[23, 32.3, 'xyz', True]"
      ]
     },
     "execution_count": 224,
     "metadata": {},
     "output_type": "execute_result"
    }
   ],
   "source": [
    "l2[1]"
   ]
  },
  {
   "cell_type": "code",
   "execution_count": 225,
   "id": "73239818",
   "metadata": {},
   "outputs": [
    {
     "data": {
      "text/plain": [
       "'xyz'"
      ]
     },
     "execution_count": 225,
     "metadata": {},
     "output_type": "execute_result"
    }
   ],
   "source": [
    "l2[1][2]"
   ]
  },
  {
   "cell_type": "code",
   "execution_count": 226,
   "id": "70684a8a",
   "metadata": {},
   "outputs": [
    {
     "data": {
      "text/plain": [
       "['AankurA', 1356, 23.0523, (2+8j), True]"
      ]
     },
     "execution_count": 226,
     "metadata": {},
     "output_type": "execute_result"
    }
   ],
   "source": [
    "l1\n"
   ]
  },
  {
   "cell_type": "code",
   "execution_count": 235,
   "id": "61c9c983",
   "metadata": {},
   "outputs": [],
   "source": [
    "l1.extend([1, 23, 43, 454.54] )"
   ]
  },
  {
   "cell_type": "code",
   "execution_count": 234,
   "id": "4677314a",
   "metadata": {},
   "outputs": [
    {
     "data": {
      "text/plain": [
       "['AankurA', 1356, 23.0523, (2+8j), True, 1, 23, 43, 454.54, 1, 23, 43, 454.54]"
      ]
     },
     "execution_count": 234,
     "metadata": {},
     "output_type": "execute_result"
    }
   ],
   "source": [
    "l1"
   ]
  },
  {
   "cell_type": "code",
   "execution_count": null,
   "id": "58ec6bb3",
   "metadata": {},
   "outputs": [],
   "source": []
  }
 ],
 "metadata": {
  "kernelspec": {
   "display_name": "Python 3 (ipykernel)",
   "language": "python",
   "name": "python3"
  },
  "language_info": {
   "codemirror_mode": {
    "name": "ipython",
    "version": 3
   },
   "file_extension": ".py",
   "mimetype": "text/x-python",
   "name": "python",
   "nbconvert_exporter": "python",
   "pygments_lexer": "ipython3",
   "version": "3.11.4"
  }
 },
 "nbformat": 4,
 "nbformat_minor": 5
}
